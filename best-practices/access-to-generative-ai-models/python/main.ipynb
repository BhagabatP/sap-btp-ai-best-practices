{
 "cells": [
  {
   "cell_type": "markdown",
   "metadata": {},
   "source": [
    "# Import libraries and environment keys"
   ]
  },
  {
   "cell_type": "code",
   "execution_count": 1,
   "metadata": {},
   "outputs": [
    {
     "data": {
      "text/plain": [
       "True"
      ]
     },
     "execution_count": 1,
     "metadata": {},
     "output_type": "execute_result"
    }
   ],
   "source": [
    "from dotenv import load_dotenv\n",
    "load_dotenv()"
   ]
  },
  {
   "cell_type": "markdown",
   "metadata": {},
   "source": [
    "# Native Client Integrations"
   ]
  },
  {
   "cell_type": "markdown",
   "metadata": {},
   "source": [
    "## Amazon and Anthropic Models\n",
    "\n",
    "\n"
   ]
  },
  {
   "cell_type": "code",
   "execution_count": 2,
   "metadata": {},
   "outputs": [
    {
     "name": "stdout",
     "output_type": "stream",
     "text": [
      "{'ResponseMetadata': {'HTTPStatusCode': 200, 'HTTPHeaders': {'date': 'Fri, 14 Mar 2025 09:23:28 GMT', 'content-type': 'application/json', 'content-length': '213'}, 'RetryAttempts': 0}, 'output': {'message': {'role': 'assistant', 'content': [{'text': 'The capital of France is Paris.'}]}}, 'stopReason': 'end_turn', 'usage': {'inputTokens': 14, 'outputTokens': 10, 'totalTokens': 24}, 'metrics': {'latencyMs': 488}}\n"
     ]
    }
   ],
   "source": [
    "from gen_ai_hub.proxy.native.amazon.clients import Session\n",
    "\n",
    "# Model parameters\n",
    "temperature = 0.6\n",
    "max_Tokens = 1000\n",
    "model = \"anthropic--claude-3.5-sonnet\"\n",
    "\n",
    "# Create a session with the model\n",
    "bedrock = Session().client(model_name=model)\n",
    "messages = [\n",
    "    {\n",
    "        \"role\": \"user\",\n",
    "        \"content\": [\n",
    "            {\n",
    "                \"text\": \"What is the capital of France?\"\n",
    "            }\n",
    "        ],\n",
    "    }\n",
    "]\n",
    "response = bedrock.converse(\n",
    "    messages=messages,\n",
    "    inferenceConfig={\"maxTokens\": max_Tokens, \"temperature\": temperature},\n",
    ")\n",
    "print(response)\n"
   ]
  },
  {
   "cell_type": "code",
   "execution_count": 3,
   "metadata": {},
   "outputs": [
    {
     "name": "stdout",
     "output_type": "stream",
     "text": [
      "The capital of France is Paris.\n"
     ]
    }
   ],
   "source": [
    "print(response['output']['message']['content'][0]['text'])"
   ]
  },
  {
   "cell_type": "markdown",
   "metadata": {},
   "source": [
    "## OpenAI Models\n",
    "\n"
   ]
  },
  {
   "cell_type": "code",
   "execution_count": 4,
   "metadata": {},
   "outputs": [
    {
     "name": "stdout",
     "output_type": "stream",
     "text": [
      "ChatCompletion(id='chatcmpl-BAvYHz84axb4qkpGqwxvGNhS4pfCf', choices=[Choice(finish_reason='stop', index=0, logprobs=None, message=ChatCompletionMessage(content='The capital of France is Paris.', refusal=None, role='assistant', annotations=None, audio=None, function_call=None, tool_calls=None), content_filter_results={'hate': {'filtered': False, 'severity': 'safe'}, 'self_harm': {'filtered': False, 'severity': 'safe'}, 'sexual': {'filtered': False, 'severity': 'safe'}, 'violence': {'filtered': False, 'severity': 'safe'}})], created=1741944209, model='gpt-4o-2024-08-06', object='chat.completion', service_tier=None, system_fingerprint='fp_ded0d14823', usage=CompletionUsage(completion_tokens=7, prompt_tokens=14, total_tokens=21, completion_tokens_details=CompletionTokensDetails(accepted_prediction_tokens=0, audio_tokens=0, reasoning_tokens=0, rejected_prediction_tokens=0), prompt_tokens_details=PromptTokensDetails(audio_tokens=0, cached_tokens=0)), prompt_filter_results=[{'content_filter_results': {'hate': {'filtered': False, 'severity': 'safe'}, 'self_harm': {'filtered': False, 'severity': 'safe'}, 'sexual': {'filtered': False, 'severity': 'safe'}, 'violence': {'filtered': False, 'severity': 'safe'}}, 'prompt_index': 0}])\n"
     ]
    }
   ],
   "source": [
    "from gen_ai_hub.proxy.native.openai import chat\n",
    "\n",
    "# Model parameters\n",
    "temperature = 0.6\n",
    "max_Tokens = 1000\n",
    "model = \"gpt-4o\"  # Also compatible with Meta models like meta-llama3.1-70b-instruct\n",
    "messages = [\n",
    "    {\"role\": \"user\", \"content\": \"What is the capital of France?\"}\n",
    "]\n",
    "\n",
    "# Create a session with the model\n",
    "response = chat.completions.create(messages=messages, model=model, temperature=temperature, max_tokens=max_Tokens)\n",
    "print(response)\n"
   ]
  },
  {
   "cell_type": "code",
   "execution_count": 5,
   "metadata": {},
   "outputs": [
    {
     "name": "stdout",
     "output_type": "stream",
     "text": [
      "The capital of France is Paris.\n"
     ]
    }
   ],
   "source": [
    "print(response.choices[0].message.content)"
   ]
  },
  {
   "cell_type": "markdown",
   "metadata": {},
   "source": [
    "# Langchain Implementations"
   ]
  },
  {
   "cell_type": "markdown",
   "metadata": {},
   "source": [
    "## OpenAI Models"
   ]
  },
  {
   "cell_type": "code",
   "execution_count": 6,
   "metadata": {},
   "outputs": [
    {
     "name": "stderr",
     "output_type": "stream",
     "text": [
      "/home/francisco/programs/BP_test/sap-btp-ai-best-practices/.venv/lib/python3.12/site-packages/pydantic/_internal/_fields.py:132: UserWarning: Field \"model_arn\" in BedrockRerank has conflict with protected namespace \"model_\".\n",
      "\n",
      "You may be able to resolve this warning by setting `model_config['protected_namespaces'] = ()`.\n",
      "  warnings.warn(\n"
     ]
    },
    {
     "name": "stdout",
     "output_type": "stream",
     "text": [
      "content='The capital of France is Paris.' additional_kwargs={'refusal': None} response_metadata={'token_usage': {'completion_tokens': 7, 'prompt_tokens': 14, 'total_tokens': 21, 'completion_tokens_details': {'accepted_prediction_tokens': 0, 'audio_tokens': 0, 'reasoning_tokens': 0, 'rejected_prediction_tokens': 0}, 'prompt_tokens_details': {'audio_tokens': 0, 'cached_tokens': 0}}, 'model_name': 'gpt-4o-2024-08-06', 'system_fingerprint': 'fp_ded0d14823', 'finish_reason': 'stop', 'logprobs': None} id='run-09010bd3-2b41-48cf-bbb1-f7cd266f6a5e-0' usage_metadata={'input_tokens': 14, 'output_tokens': 7, 'total_tokens': 21, 'input_token_details': {'audio': 0, 'cache_read': 0}, 'output_token_details': {'audio': 0, 'reasoning': 0}}\n"
     ]
    }
   ],
   "source": [
    "from gen_ai_hub.proxy.langchain.openai import ChatOpenAI\n",
    "\n",
    "# Model parameters\n",
    "temperature = 0.6\n",
    "max_Tokens = 1000\n",
    "model_name = \"gpt-4o\"\n",
    "\n",
    "# Initialize the model\n",
    "chat = ChatOpenAI(proxy_model_name=model_name, max_tokens=max_Tokens, temperature=temperature)\n",
    "\n",
    "prompt = \"\"\"What is the capital of France?\"\"\"\n",
    "response = chat.invoke(prompt)\n",
    "print(response)\n"
   ]
  },
  {
   "cell_type": "code",
   "execution_count": 7,
   "metadata": {},
   "outputs": [
    {
     "name": "stdout",
     "output_type": "stream",
     "text": [
      "The capital of France is Paris.\n"
     ]
    }
   ],
   "source": [
    "print(response.content)"
   ]
  },
  {
   "cell_type": "markdown",
   "metadata": {},
   "source": [
    "## Amazon and Athropic Models"
   ]
  },
  {
   "cell_type": "code",
   "execution_count": 8,
   "metadata": {},
   "outputs": [
    {
     "name": "stdout",
     "output_type": "stream",
     "text": [
      "content='The capital of France is Paris.' additional_kwargs={'usage': {'prompt_tokens': 0, 'completion_tokens': 0, 'total_tokens': 0}, 'stop_reason': 'end_turn', 'thinking': {}, 'model_id': 'anthropic.claude-3-5-sonnet-20240620-v1:0'} response_metadata={'usage': {'prompt_tokens': 0, 'completion_tokens': 0, 'total_tokens': 0}, 'stop_reason': 'end_turn', 'thinking': {}, 'model_id': 'anthropic.claude-3-5-sonnet-20240620-v1:0'} id='run-e423a5e9-7dc9-4799-8790-15b71fa3228a-0' usage_metadata={'input_tokens': 0, 'output_tokens': 0, 'total_tokens': 0}\n"
     ]
    }
   ],
   "source": [
    "from gen_ai_hub.proxy.langchain.amazon import ChatBedrock\n",
    "\n",
    "# Model parameters\n",
    "temperature = 0.6\n",
    "max_tokens = 1000  # Note: variable name should match parameter name\n",
    "model_name = \"anthropic--claude-3.5-sonnet\"\n",
    "\n",
    "# Initialize the model\n",
    "chat = ChatBedrock(\n",
    "    model_name=model_name,  # Use model_name parameter instead of model_id\n",
    "    temperature=temperature,\n",
    "    model_kwargs={\n",
    "        \"max_tokens\": max_tokens,  # For Anthropic models\n",
    "        \"top_p\": 1.0  # Default value\n",
    "    }\n",
    ")\n",
    "\n",
    "prompt = \"\"\"What is the capital of France?\"\"\"\n",
    "response = chat.invoke(prompt)\n",
    "print(response)\n"
   ]
  },
  {
   "cell_type": "code",
   "execution_count": 9,
   "metadata": {},
   "outputs": [
    {
     "name": "stdout",
     "output_type": "stream",
     "text": [
      "The capital of France is Paris.\n"
     ]
    }
   ],
   "source": [
    "print(response.content)"
   ]
  },
  {
   "cell_type": "markdown",
   "metadata": {},
   "source": [
    "## Google Vertex AI Models"
   ]
  },
  {
   "cell_type": "code",
   "execution_count": 10,
   "metadata": {},
   "outputs": [
    {
     "name": "stdout",
     "output_type": "stream",
     "text": [
      "content='Paris\\n' additional_kwargs={} response_metadata={'is_blocked': False, 'safety_ratings': [], 'usage_metadata': {'prompt_token_count': 7, 'candidates_token_count': 2, 'total_token_count': 9, 'prompt_tokens_details': [{'modality': 1, 'token_count': 7}], 'candidates_tokens_details': [{'modality': 1, 'token_count': 2}], 'cached_content_token_count': 0, 'cache_tokens_details': []}, 'finish_reason': 'STOP', 'avg_logprobs': -0.008537503890693188, 'model_name': 'gemini-1.5-pro'} id='run-5df00187-ccad-4651-a7a0-b8bb0150254c-0' usage_metadata={'input_tokens': 7, 'output_tokens': 2, 'total_tokens': 9}\n"
     ]
    }
   ],
   "source": [
    "from gen_ai_hub.proxy.langchain.google_vertexai import ChatVertexAI\n",
    "\n",
    "# Model parameters\n",
    "temperature = 0.6\n",
    "max_tokens = 1000\n",
    "model_name = \"gemini-1.5-pro\"\n",
    "\n",
    "# Initialize the model\n",
    "chat = ChatVertexAI(\n",
    "    model_name=model_name,  # Use model_name parameter instead of model_id\n",
    "    temperature=temperature,\n",
    "    max_output_tokens=max_tokens  # For Vertex AI models\n",
    ")\n",
    "prompt = \"\"\"What is the capital of France?\"\"\"\n",
    "response = chat.invoke(prompt)\n",
    "print(response)"
   ]
  },
  {
   "cell_type": "code",
   "execution_count": 11,
   "metadata": {},
   "outputs": [
    {
     "name": "stdout",
     "output_type": "stream",
     "text": [
      "Paris\n",
      "\n"
     ]
    }
   ],
   "source": [
    "print(response.content)"
   ]
  },
  {
   "cell_type": "markdown",
   "metadata": {},
   "source": [
    "# Orchestration Implementation\n",
    "We can unify the method to call any model from SAP GenAI Hub using the Orchestration Service."
   ]
  },
  {
   "cell_type": "code",
   "execution_count": null,
   "metadata": {},
   "outputs": [
    {
     "name": "stdout",
     "output_type": "stream",
     "text": [
      "OrchestrationResponse(request_id='28a9b4cd-5a4a-4065-aa66-467c578c2808', module_results=ModuleResults(input_filtering=None, output_filtering=None, input_masking=None, grounding=None, llm=LLMResult(id='chatcmpl-BAvYmKdnddVCkgzjJZ4VErhOVlnzW', object='chat.completion', created=1741944240, model='gpt-4o-2024-08-06', choices=[LLMChoice(index=0, message=Message(role=<Role.ASSISTANT: 'assistant'>, content='The capital of France is Paris.'), finish_reason='stop', logprobs=None)], usage=LLMUsage(completion_tokens=7, prompt_tokens=24, total_tokens=31), system_fingerprint='fp_ded0d14823'), templating=[Message(role=<Role.SYSTEM: 'system'>, content='You are a helpful assistant.'), Message(role=<Role.USER: 'user'>, content='What is the capital of France?')], output_unmasking=None), orchestration_result=LLMResult(id='chatcmpl-BAvYmKdnddVCkgzjJZ4VErhOVlnzW', object='chat.completion', created=1741944240, model='gpt-4o-2024-08-06', choices=[LLMChoice(index=0, message=Message(role=<Role.ASSISTANT: 'assistant'>, content='The capital of France is Paris.'), finish_reason='stop', logprobs=None)], usage=LLMUsage(completion_tokens=7, prompt_tokens=24, total_tokens=31), system_fingerprint='fp_ded0d14823'))\n"
     ]
    }
   ],
   "source": [
    "from gen_ai_hub.orchestration.models.message import SystemMessage, UserMessage\n",
    "from gen_ai_hub.orchestration.models.template import Template\n",
    "from gen_ai_hub.orchestration.service import OrchestrationService\n",
    "from gen_ai_hub.orchestration.models.llm import LLM\n",
    "from gen_ai_hub.orchestration.models.config import OrchestrationConfig\n",
    "\n",
    "# Set up model parameters\n",
    "temperature = 0.6\n",
    "max_Tokens = 1000\n",
    "# model_name = \"anthropic--claude-3.5-sonnet\"\n",
    "model_name = \"gpt-4o\"  # Also compatible with all the models in this notebook\n",
    "\n",
    "# Define message template\n",
    "template = Template(\n",
    "    messages=[\n",
    "        SystemMessage(\"You are a helpful assistant.\"),\n",
    "        UserMessage(\n",
    "            \"What is the capital of France?\"\n",
    "        ),\n",
    "    ]\n",
    ")\n",
    "\n",
    "# Define LLM configuration\n",
    "llm = LLM(name=model_name, version=\"latest\", parameters={\"max_tokens\": max_Tokens, \"temperature\": temperature})\n",
    "llm = LLM(name=model_name)\n",
    "\n",
    "config = OrchestrationConfig(\n",
    "    template=template,\n",
    "    llm=llm,\n",
    ")\n",
    "\n",
    "orchestration_service = OrchestrationService(config=config)\n",
    "\n",
    "result = orchestration_service.run()\n",
    "print(result)\n"
   ]
  },
  {
   "cell_type": "code",
   "execution_count": 14,
   "metadata": {},
   "outputs": [
    {
     "name": "stdout",
     "output_type": "stream",
     "text": [
      "The capital of France is Paris.\n"
     ]
    }
   ],
   "source": [
    "print(result.orchestration_result.choices[0].message.content)"
   ]
  }
 ],
 "metadata": {
  "kernelspec": {
   "display_name": ".venv",
   "language": "python",
   "name": "python3"
  },
  "language_info": {
   "codemirror_mode": {
    "name": "ipython",
    "version": 3
   },
   "file_extension": ".py",
   "mimetype": "text/x-python",
   "name": "python",
   "nbconvert_exporter": "python",
   "pygments_lexer": "ipython3",
   "version": "3.12.3"
  }
 },
 "nbformat": 4,
 "nbformat_minor": 4
}
