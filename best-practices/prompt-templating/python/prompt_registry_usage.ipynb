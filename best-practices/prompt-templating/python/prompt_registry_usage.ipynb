{
 "cells": [
  {
   "cell_type": "markdown",
   "id": "3cdf2d82",
   "metadata": {},
   "source": [
    "# Load Prompt Registry Client\n",
    "In the next example, following the previous Notebook on Prompt creation, we will create and upload a Prompt template to the Prompt Registry"
   ]
  },
  {
   "cell_type": "code",
   "execution_count": 1,
   "id": "a3ff2786",
   "metadata": {},
   "outputs": [
    {
     "name": "stdout",
     "output_type": "stream",
     "text": [
      "PromptTemplateClient initialized successfully.\n",
      "Prompt template created successfully.\n",
      "Prompt template ID: bad89858-ec35-4f6c-9189-12a0e35a4daa\n"
     ]
    }
   ],
   "source": [
    "from gen_ai_hub.proxy import get_proxy_client\n",
    "from gen_ai_hub.prompt_registry.client import PromptTemplateClient\n",
    "from gen_ai_hub.orchestration.models.template import Template, TemplateValue\n",
    "\n",
    "from gen_ai_hub.prompt_registry.models.prompt_template import PromptTemplateSpec, PromptTemplate\n",
    "from dotenv import load_dotenv\n",
    "load_dotenv()\n",
    "\n",
    "proxy_client = get_proxy_client(proxy_version=\"gen-ai-hub\")\n",
    "prompt_registry_client = PromptTemplateClient(proxy_client=proxy_client)\n",
    "print(\"PromptTemplateClient initialized successfully.\")\n",
    "\n",
    "prompt_template_spec = PromptTemplateSpec(\n",
    "    template=[\n",
    "        PromptTemplate(\n",
    "            role=\"system\",\n",
    "            content=\"You are a helpful translation assistant.\"),\n",
    "        PromptTemplate(\n",
    "            role=\"user\",\n",
    "            content=\"Translate the following text to {{?to_lang}}: {{?text}}\"\n",
    "        )],\n",
    "    defaults={'to_lang': 'German'},\n",
    ")\n",
    "\n",
    "response = prompt_registry_client.create_prompt_template(\n",
    "    scenario=\"translation\",\n",
    "    name=\"translation_prompt\",\n",
    "    version=\"1.0.0\",\n",
    "    prompt_template_spec=prompt_template_spec\n",
    ")\n",
    "print(\"Prompt template created successfully.\")\n",
    "\n",
    "template_id = response.id\n",
    "print(f\"Prompt template ID: {template_id}\")"
   ]
  },
  {
   "cell_type": "markdown",
   "id": "85234a81",
   "metadata": {},
   "source": [
    "# Retrieve Prompt Template "
   ]
  },
  {
   "cell_type": "code",
   "execution_count": 2,
   "id": "546834bc",
   "metadata": {},
   "outputs": [
    {
     "name": "stdout",
     "output_type": "stream",
     "text": [
      " Retrieved template: [PromptTemplate(role='system', content='You are a helpful translation assistant.'), PromptTemplate(role='user', content='Translate the following text to {{?to_lang}}: {{?text}}')]\n"
     ]
    }
   ],
   "source": [
    "from gen_ai_hub.orchestration.models.template_ref import TemplateRef\n",
    "\n",
    "\n",
    "# Fetching the template using ID \n",
    "response = prompt_registry_client.get_prompt_template_by_id(template_id)\n",
    "\n",
    "\n",
    "if response and response.spec:\n",
    "    template = response.spec.template\n",
    "    print(f\" Retrieved template: {template}\")\n",
    "else:\n",
    "    print(\"Failed to retrieve template.\")"
   ]
  },
  {
   "cell_type": "markdown",
   "id": "081ddfaa",
   "metadata": {},
   "source": [
    "# Define the LLM\n",
    "The `LLM` class is used to configure and initialize a language model for generating text based on specific parameters. In this example, we'll use the gpt-4o"
   ]
  },
  {
   "cell_type": "code",
   "execution_count": 3,
   "id": "56cfa5fb",
   "metadata": {},
   "outputs": [],
   "source": [
    "from gen_ai_hub.orchestration.models.llm import LLM\n",
    "\n",
    "llm = LLM(name=\"gpt-4o\", version=\"latest\", parameters={\"max_tokens\": 256, \"temperature\": 0.2})"
   ]
  },
  {
   "cell_type": "markdown",
   "id": "cd38dc0b",
   "metadata": {},
   "source": [
    "# Create Orchestration Configuration\n",
    "The `OrchestrationConfig` class defines a configuration for integrating various modules, such as templates and language models, into a cohesive orchestration setup."
   ]
  },
  {
   "cell_type": "code",
   "execution_count": 4,
   "id": "da79ccd7",
   "metadata": {},
   "outputs": [],
   "source": [
    "from gen_ai_hub.orchestration.models.config import OrchestrationConfig\n",
    "\n",
    "response = prompt_registry_client.get_prompt_template_by_id(template_id)\n",
    "template = response.spec.template\n",
    "\n",
    "config = OrchestrationConfig(\n",
    "    template=template,\n",
    "    llm=llm,\n",
    ")"
   ]
  },
  {
   "cell_type": "markdown",
   "id": "cb16314e",
   "metadata": {},
   "source": [
    "# Run the Orchestration Request"
   ]
  },
  {
   "cell_type": "code",
   "execution_count": 5,
   "id": "7175000f",
   "metadata": {},
   "outputs": [
    {
     "ename": "AttributeError",
     "evalue": "'list' object has no attribute 'to_dict'",
     "output_type": "error",
     "traceback": [
      "\u001b[31m---------------------------------------------------------------------------\u001b[39m",
      "\u001b[31mAttributeError\u001b[39m                            Traceback (most recent call last)",
      "\u001b[36mCell\u001b[39m\u001b[36m \u001b[39m\u001b[32mIn[5]\u001b[39m\u001b[32m, line 6\u001b[39m\n\u001b[32m      2\u001b[39m \u001b[38;5;28;01mfrom\u001b[39;00m\u001b[38;5;250m \u001b[39m\u001b[34;01mgen_ai_hub\u001b[39;00m\u001b[34;01m.\u001b[39;00m\u001b[34;01morchestration\u001b[39;00m\u001b[34;01m.\u001b[39;00m\u001b[34;01mmodels\u001b[39;00m\u001b[34;01m.\u001b[39;00m\u001b[34;01mtemplate\u001b[39;00m\u001b[38;5;250m \u001b[39m\u001b[38;5;28;01mimport\u001b[39;00m Template, TemplateValue\n\u001b[32m      4\u001b[39m orchestration_service = OrchestrationService(config=config)\n\u001b[32m----> \u001b[39m\u001b[32m6\u001b[39m result = \u001b[43morchestration_service\u001b[49m\u001b[43m.\u001b[49m\u001b[43mrun\u001b[49m\u001b[43m(\u001b[49m\u001b[43mtemplate_values\u001b[49m\u001b[43m=\u001b[49m\u001b[43m[\u001b[49m\n\u001b[32m      7\u001b[39m \u001b[43m    \u001b[49m\u001b[43mTemplateValue\u001b[49m\u001b[43m(\u001b[49m\u001b[43mname\u001b[49m\u001b[43m=\u001b[49m\u001b[33;43m\"\u001b[39;49m\u001b[33;43mtext\u001b[39;49m\u001b[33;43m\"\u001b[39;49m\u001b[43m,\u001b[49m\u001b[43m \u001b[49m\u001b[43mvalue\u001b[49m\u001b[43m=\u001b[49m\u001b[33;43m\"\u001b[39;49m\u001b[33;43mThe Orchestration Service is working!\u001b[39;49m\u001b[33;43m\"\u001b[39;49m\u001b[43m)\u001b[49m\n\u001b[32m      8\u001b[39m \u001b[43m]\u001b[49m\u001b[43m)\u001b[49m\n\u001b[32m     10\u001b[39m \u001b[38;5;28mprint\u001b[39m(result.orchestration_result.choices[\u001b[32m0\u001b[39m].message.content)\n",
      "\u001b[36mFile \u001b[39m\u001b[32m~/Documents/programs/Best Practices/sap-btp-ai-best-practices/.venv/lib/python3.12/site-packages/gen_ai_hub/orchestration/service.py:357\u001b[39m, in \u001b[36mOrchestrationService.run\u001b[39m\u001b[34m(self, config, template_values, history, timeout)\u001b[39m\n\u001b[32m    338\u001b[39m \u001b[38;5;28;01mdef\u001b[39;00m\u001b[38;5;250m \u001b[39m\u001b[34mrun\u001b[39m(\n\u001b[32m    339\u001b[39m     \u001b[38;5;28mself\u001b[39m,\n\u001b[32m    340\u001b[39m     config: Optional[OrchestrationConfig] = \u001b[38;5;28;01mNone\u001b[39;00m,\n\u001b[32m   (...)\u001b[39m\u001b[32m    343\u001b[39m     timeout: Union[\u001b[38;5;28mint\u001b[39m, \u001b[38;5;28mfloat\u001b[39m, httpx.Timeout, \u001b[38;5;28;01mNone\u001b[39;00m] = \u001b[38;5;28;01mNone\u001b[39;00m,\n\u001b[32m    344\u001b[39m ) -> OrchestrationResponse:\n\u001b[32m    345\u001b[39m \u001b[38;5;250m    \u001b[39m\u001b[33;03m\"\"\"\u001b[39;00m\n\u001b[32m    346\u001b[39m \u001b[33;03m    Executes an orchestration request synchronously (non-streaming).\u001b[39;00m\n\u001b[32m    347\u001b[39m \n\u001b[32m   (...)\u001b[39m\u001b[32m    355\u001b[39m \u001b[33;03m        An OrchestrationResponse object.\u001b[39;00m\n\u001b[32m    356\u001b[39m \u001b[33;03m    \"\"\"\u001b[39;00m\n\u001b[32m--> \u001b[39m\u001b[32m357\u001b[39m     \u001b[38;5;28;01mreturn\u001b[39;00m \u001b[38;5;28;43mself\u001b[39;49m\u001b[43m.\u001b[49m\u001b[43m_execute_request\u001b[49m\u001b[43m(\u001b[49m\n\u001b[32m    358\u001b[39m \u001b[43m        \u001b[49m\u001b[43mconfig\u001b[49m\u001b[43m=\u001b[49m\u001b[43mconfig\u001b[49m\u001b[43m \u001b[49m\u001b[38;5;129;43;01mor\u001b[39;49;00m\u001b[43m \u001b[49m\u001b[38;5;28;43mself\u001b[39;49m\u001b[43m.\u001b[49m\u001b[43mconfig\u001b[49m\u001b[43m,\u001b[49m\n\u001b[32m    359\u001b[39m \u001b[43m        \u001b[49m\u001b[43mtemplate_values\u001b[49m\u001b[43m=\u001b[49m\u001b[43mtemplate_values\u001b[49m\u001b[43m,\u001b[49m\n\u001b[32m    360\u001b[39m \u001b[43m        \u001b[49m\u001b[43mhistory\u001b[49m\u001b[43m=\u001b[49m\u001b[43mhistory\u001b[49m\u001b[43m,\u001b[49m\n\u001b[32m    361\u001b[39m \u001b[43m        \u001b[49m\u001b[43mstream\u001b[49m\u001b[43m=\u001b[49m\u001b[38;5;28;43;01mFalse\u001b[39;49;00m\u001b[43m,\u001b[49m\n\u001b[32m    362\u001b[39m \u001b[43m        \u001b[49m\u001b[43mtimeout\u001b[49m\u001b[43m=\u001b[49m\u001b[43mtimeout\u001b[49m\u001b[43m,\u001b[49m\n\u001b[32m    363\u001b[39m \u001b[43m    \u001b[49m\u001b[43m)\u001b[49m\n",
      "\u001b[36mFile \u001b[39m\u001b[32m~/Documents/programs/Best Practices/sap-btp-ai-best-practices/.venv/lib/python3.12/site-packages/gen_ai_hub/orchestration/service.py:254\u001b[39m, in \u001b[36mOrchestrationService._execute_request\u001b[39m\u001b[34m(self, config, template_values, history, stream, stream_options, timeout)\u001b[39m\n\u001b[32m    248\u001b[39m     \u001b[38;5;28;01mreturn\u001b[39;00m SSEClient(client, response_cm, prefix=\u001b[33m\"\u001b[39m\u001b[33mdata: \u001b[39m\u001b[33m\"\u001b[39m, final_message=\u001b[33m\"\u001b[39m\u001b[33m[DONE]\u001b[39m\u001b[33m\"\u001b[39m)\n\u001b[32m    250\u001b[39m \u001b[38;5;28;01mwith\u001b[39;00m httpx.Client(timeout=timeout \u001b[38;5;129;01mor\u001b[39;00m \u001b[38;5;28mself\u001b[39m.timeout) \u001b[38;5;28;01mas\u001b[39;00m client:\n\u001b[32m    251\u001b[39m     response = client.post(\n\u001b[32m    252\u001b[39m         \u001b[38;5;28mself\u001b[39m.api_url + COMPLETION_SUFFIX,\n\u001b[32m    253\u001b[39m         headers=\u001b[38;5;28mself\u001b[39m.proxy_client.request_header,\n\u001b[32m--> \u001b[39m\u001b[32m254\u001b[39m         json=\u001b[43mrequest_obj\u001b[49m\u001b[43m.\u001b[49m\u001b[43mto_dict\u001b[49m\u001b[43m(\u001b[49m\u001b[43m)\u001b[49m\n\u001b[32m    255\u001b[39m     )\n\u001b[32m    256\u001b[39m     \u001b[38;5;28;01mtry\u001b[39;00m:\n\u001b[32m    257\u001b[39m         response.raise_for_status()\n",
      "\u001b[36mFile \u001b[39m\u001b[32m~/Documents/programs/Best Practices/sap-btp-ai-best-practices/.venv/lib/python3.12/site-packages/gen_ai_hub/orchestration/service.py:43\u001b[39m, in \u001b[36mOrchestrationRequest.to_dict\u001b[39m\u001b[34m(self)\u001b[39m\n\u001b[32m     41\u001b[39m \u001b[38;5;28;01mdef\u001b[39;00m\u001b[38;5;250m \u001b[39m\u001b[34mto_dict\u001b[39m(\u001b[38;5;28mself\u001b[39m):\n\u001b[32m     42\u001b[39m     \u001b[38;5;28;01mreturn\u001b[39;00m {\n\u001b[32m---> \u001b[39m\u001b[32m43\u001b[39m         \u001b[33m\"\u001b[39m\u001b[33morchestration_config\u001b[39m\u001b[33m\"\u001b[39m: \u001b[38;5;28;43mself\u001b[39;49m\u001b[43m.\u001b[49m\u001b[43mconfig\u001b[49m\u001b[43m.\u001b[49m\u001b[43mto_dict\u001b[49m\u001b[43m(\u001b[49m\u001b[43m)\u001b[49m,\n\u001b[32m     44\u001b[39m         \u001b[33m\"\u001b[39m\u001b[33minput_params\u001b[39m\u001b[33m\"\u001b[39m: {value.name: value.value \u001b[38;5;28;01mfor\u001b[39;00m value \u001b[38;5;129;01min\u001b[39;00m \u001b[38;5;28mself\u001b[39m.template_values},\n\u001b[32m     45\u001b[39m         \u001b[33m\"\u001b[39m\u001b[33mmessages_history\u001b[39m\u001b[33m\"\u001b[39m: [message.to_dict() \u001b[38;5;28;01mfor\u001b[39;00m message \u001b[38;5;129;01min\u001b[39;00m \u001b[38;5;28mself\u001b[39m.history],\n\u001b[32m     46\u001b[39m     }\n",
      "\u001b[36mFile \u001b[39m\u001b[32m~/Documents/programs/Best Practices/sap-btp-ai-best-practices/.venv/lib/python3.12/site-packages/gen_ai_hub/orchestration/models/config.py:68\u001b[39m, in \u001b[36mOrchestrationConfig.to_dict\u001b[39m\u001b[34m(self)\u001b[39m\n\u001b[32m     66\u001b[39m \u001b[38;5;28;01mdef\u001b[39;00m\u001b[38;5;250m \u001b[39m\u001b[34mto_dict\u001b[39m(\u001b[38;5;28mself\u001b[39m):\n\u001b[32m     67\u001b[39m     config = {\n\u001b[32m---> \u001b[39m\u001b[32m68\u001b[39m         \u001b[33m\"\u001b[39m\u001b[33mmodule_configurations\u001b[39m\u001b[33m\"\u001b[39m: \u001b[38;5;28;43mself\u001b[39;49m\u001b[43m.\u001b[49m\u001b[43m_get_module_configurations\u001b[49m\u001b[43m(\u001b[49m\u001b[43m)\u001b[49m,\n\u001b[32m     69\u001b[39m         **({\u001b[33m\"\u001b[39m\u001b[33mstream\u001b[39m\u001b[33m\"\u001b[39m: \u001b[38;5;28;01mTrue\u001b[39;00m} \u001b[38;5;28;01mif\u001b[39;00m \u001b[38;5;28mself\u001b[39m._stream \u001b[38;5;28;01melse\u001b[39;00m {}),\n\u001b[32m     70\u001b[39m         **({\u001b[33m\"\u001b[39m\u001b[33mstream_options\u001b[39m\u001b[33m\"\u001b[39m: \u001b[38;5;28mself\u001b[39m.stream_options} \u001b[38;5;28;01mif\u001b[39;00m \u001b[38;5;28mself\u001b[39m._stream \u001b[38;5;129;01mand\u001b[39;00m \u001b[38;5;28mself\u001b[39m.stream_options \u001b[38;5;28;01melse\u001b[39;00m {})\n\u001b[32m     71\u001b[39m     }\n\u001b[32m     73\u001b[39m     \u001b[38;5;28;01mreturn\u001b[39;00m config\n",
      "\u001b[36mFile \u001b[39m\u001b[32m~/Documents/programs/Best Practices/sap-btp-ai-best-practices/.venv/lib/python3.12/site-packages/gen_ai_hub/orchestration/models/config.py:51\u001b[39m, in \u001b[36mOrchestrationConfig._get_module_configurations\u001b[39m\u001b[34m(self)\u001b[39m\n\u001b[32m     49\u001b[39m \u001b[38;5;28;01mdef\u001b[39;00m\u001b[38;5;250m \u001b[39m\u001b[34m_get_module_configurations\u001b[39m(\u001b[38;5;28mself\u001b[39m):\n\u001b[32m     50\u001b[39m     configs = {\n\u001b[32m---> \u001b[39m\u001b[32m51\u001b[39m         \u001b[33m\"\u001b[39m\u001b[33mtemplating_module_config\u001b[39m\u001b[33m\"\u001b[39m: \u001b[38;5;28;43mself\u001b[39;49m\u001b[43m.\u001b[49m\u001b[43mtemplate\u001b[49m\u001b[43m.\u001b[49m\u001b[43mto_dict\u001b[49m(),\n\u001b[32m     52\u001b[39m         \u001b[33m\"\u001b[39m\u001b[33mllm_module_config\u001b[39m\u001b[33m\"\u001b[39m: \u001b[38;5;28mself\u001b[39m.llm.to_dict(),\n\u001b[32m     53\u001b[39m     }\n\u001b[32m     55\u001b[39m     \u001b[38;5;28;01mif\u001b[39;00m \u001b[38;5;28mself\u001b[39m.data_masking:\n\u001b[32m     56\u001b[39m         configs[\u001b[33m\"\u001b[39m\u001b[33mmasking_module_config\u001b[39m\u001b[33m\"\u001b[39m] = \u001b[38;5;28mself\u001b[39m.data_masking.to_dict()\n",
      "\u001b[31mAttributeError\u001b[39m: 'list' object has no attribute 'to_dict'"
     ]
    }
   ],
   "source": [
    "from gen_ai_hub.orchestration.service import OrchestrationService\n",
    "from gen_ai_hub.orchestration.models.template import Template, TemplateValue\n",
    "\n",
    "orchestration_service = OrchestrationService(config=config)\n",
    "\n",
    "result = orchestration_service.run(template_values=[\n",
    "    TemplateValue(name=\"text\", value=\"The Orchestration Service is working!\")\n",
    "])\n",
    "\n",
    "print(result.orchestration_result.choices[0].message.content)"
   ]
  }
 ],
 "metadata": {
  "kernelspec": {
   "display_name": ".venv",
   "language": "python",
   "name": "python3"
  },
  "language_info": {
   "codemirror_mode": {
    "name": "ipython",
    "version": 3
   },
   "file_extension": ".py",
   "mimetype": "text/x-python",
   "name": "python",
   "nbconvert_exporter": "python",
   "pygments_lexer": "ipython3",
   "version": "3.12.9"
  }
 },
 "nbformat": 4,
 "nbformat_minor": 5
}
